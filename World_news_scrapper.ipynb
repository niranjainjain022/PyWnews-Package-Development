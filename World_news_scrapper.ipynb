{
  "nbformat": 4,
  "nbformat_minor": 0,
  "metadata": {
    "colab": {
      "name": "World news scrapper.ipynb",
      "provenance": [],
      "collapsed_sections": [],
      "toc_visible": true
    },
    "kernelspec": {
      "name": "python3",
      "display_name": "Python 3"
    },
    "language_info": {
      "name": "python"
    }
  },
  "cells": [
    {
      "cell_type": "markdown",
      "metadata": {
        "id": "Ie-QWA81QfLu"
      },
      "source": [
        "# WORLD NEWS SCRAPPER"
      ]
    },
    {
      "cell_type": "markdown",
      "metadata": {
        "id": "mbnwvRKNcSbq"
      },
      "source": [
        "IMPORTING LIBRARIES FOR SCRAPPING & DEFINING SOUP TO PARSE THE HTML PAGE\n"
      ]
    },
    {
      "cell_type": "code",
      "metadata": {
        "id": "Gm_WvSl2_Hr0"
      },
      "source": [
        "import requests\n",
        "from bs4 import BeautifulSoup\n",
        "\n",
        "URL = 'https://apnews.com/hub/ap-top-news'\n",
        "page = requests.get(URL)\n",
        "\n",
        "soup = BeautifulSoup(page.content, 'html.parser')"
      ],
      "execution_count": null,
      "outputs": []
    },
    {
      "cell_type": "markdown",
      "metadata": {
        "id": "clxM8XZEcjjk"
      },
      "source": [
        "DEFINING A FUNCTION NEWS TO SCRAP ALL THE IMPORTANT WORLD NEWS"
      ]
    },
    {
      "cell_type": "code",
      "metadata": {
        "id": "RGcvQfpGGSZN"
      },
      "source": [
        "class wnews:\n",
        "  def news(self): \n",
        "    news = []\n",
        "    for div in soup.find_all(class_='FeedCard', attrs = {'class' : 'Component-h1'}):\n",
        "      for h in div.find('h1'):\n",
        "        new = h\n",
        "        if new not in news:\n",
        "          news.append(new)\n",
        "    print(news)\n"
      ],
      "execution_count": null,
      "outputs": []
    },
    {
      "cell_type": "markdown",
      "metadata": {
        "id": "aLoRhswTcqNp"
      },
      "source": [
        "LETS SEE IF FUNCTION RUNS"
      ]
    },
    {
      "cell_type": "code",
      "metadata": {
        "colab": {
          "base_uri": "https://localhost:8080/"
        },
        "id": "aTNLWjpvbTw9",
        "outputId": "49ec4cbb-7ba9-44e5-9cf5-16f362956f53"
      },
      "source": [
        "p = wnews()\n",
        "p.news()"
      ],
      "execution_count": null,
      "outputs": [
        {
          "output_type": "execute_result",
          "data": {
            "text/plain": [
              "['Biden aims to vaccinate 70% of American adults by July 4',\n",
              " '‘Horrible’ weeks ahead as India’s virus catastrophe worsens',\n",
              " 'Overpass collapse on Mexico City metro kills at least 24',\n",
              " 'Netanyahu misses deadline, political future in question',\n",
              " 'US report: Taliban will likely curtail Afghan women’s rights',\n",
              " 'Chauvin’s lawyer seeks new trial, impeachment of verdict',\n",
              " 'America’s new normal: A degree hotter than two decades ago',\n",
              " 'Bill and Melinda Gates divorce could shake up philanthropy',\n",
              " 'Campaign stunt, ads bring California recall into new phase',\n",
              " 'Wind, rain continue to pound South; flood fears in Alabama',\n",
              " 'Cheney could be ‘toast’ in fight with Trump over GOP future',\n",
              " 'As pandemic ebbs, an old fear is new again: mass shootings',\n",
              " 'Madrid’s champion of soft virus restrictions wins election',\n",
              " 'Technology shares sink broader market although Dow has gain',\n",
              " 'Hyundai recalls over 390K vehicles for possible engine fires',\n",
              " 'How companies rip off poor employees — and get away with it',\n",
              " 'DA: OK to test evidence from 1992 ‘Fatal Attraction’ trial',\n",
              " 'Some immigrants, hard hit by economic fallout, lose homes',\n",
              " 'Idaho legislative intern reports rape, is ID’d by lawmaker',\n",
              " 'German far-right crime rises; police arrest alleged neo-Nazi',\n",
              " 'National bail fund to expand in the Deep South',\n",
              " 'AP source: Sheldon Silver released from prison on furlough',\n",
              " 'Some Black parents say remote learning gives racism reprieve',\n",
              " 'Welcome to Top 10, Melo: Elite NBA scoring list adds Anthony',\n",
              " 'Refugee doctor chronicles Tigray’s pain as he treats it',\n",
              " 'Ethiopia ‘at a crossroads’ amid spiraling ethnic conflict',\n",
              " 'Deaths at sea highlight failings in Europe migration policy',\n",
              " 'Whose ‘Big Lie’? Trump’s proclamation a new GOP litmus test',\n",
              " 'UN program inks Moderna deal on 500M doses, starting in Q4 ',\n",
              " 'Flurry of diplomatic contacts fuel Iran deal speculation ',\n",
              " 'As Lebanese cry for justice, politics paralyzes the system',\n",
              " 'Biden quadruples Trump refugee cap after delay backlash',\n",
              " 'San Diego boat wreck kills 3, shows risks of ocean smuggling',\n",
              " 'Storms spawn twisters in Mississippi, kill 2 in Georgia',\n",
              " 'FDA expected to OK Pfizer vaccine for teens within week',\n",
              " 'Bill and Melinda Gates announce they are getting divorced',\n",
              " 'Apple’s ‘walled garden’ faces Epic attack in app store trial',\n",
              " 'EPA rule to phase out gases used in refrigerators, coolants',\n",
              " 'Judges hear arguments over contentious Census privacy tool',\n",
              " 'Top general drops opposition to change in sex assault policy',\n",
              " 'Bobby Unser, 87, Indy 500 champ in great racing family, dies',\n",
              " 'Calls for justice at N.C. funeral of Andrew Brown Jr.',\n",
              " 'Mexico marks end of last Indigenous revolt with apology',\n",
              " 'Death draws attention to police putting suspects face down',\n",
              " 'Verizon sells internet trailblazers Yahoo and AOL for $5B',\n",
              " '3 killed as suspected smuggling boat capsizes off San Diego',\n",
              " 'Asian American business leaders seek to fight discrimination']"
            ]
          },
          "metadata": {
            "tags": []
          },
          "execution_count": 3
        }
      ]
    },
    {
      "cell_type": "code",
      "metadata": {
        "id": "z3foLbIHIzck"
      },
      "source": [
        ""
      ],
      "execution_count": null,
      "outputs": []
    },
    {
      "cell_type": "markdown",
      "metadata": {
        "id": "jHCjjY_sdH6J"
      },
      "source": [
        "MAKING DIRECTORY WITH THE NAME OF OUR PACKAGE AND INSIDE THAT WE WILL BE MAKING ANOTHER FOLDER WITH THE NAME OF THE PACKAGE"
      ]
    },
    {
      "cell_type": "code",
      "metadata": {
        "colab": {
          "base_uri": "https://localhost:8080/"
        },
        "id": "VXsnagf789JL",
        "outputId": "3af204c5-4d6a-4c1b-bffb-a9491f6bc7c2"
      },
      "source": [
        "cd /content/"
      ],
      "execution_count": null,
      "outputs": [
        {
          "output_type": "stream",
          "text": [
            "/content\n"
          ],
          "name": "stdout"
        }
      ]
    },
    {
      "cell_type": "code",
      "metadata": {
        "id": "YJQrRv2zbh5K"
      },
      "source": [
        "!mkdir PyWnews"
      ],
      "execution_count": null,
      "outputs": []
    },
    {
      "cell_type": "code",
      "metadata": {
        "colab": {
          "base_uri": "https://localhost:8080/"
        },
        "id": "2cvpxxeTyw3E",
        "outputId": "86867c52-2371-40ff-b212-d0bc6977a68b"
      },
      "source": [
        "cd /content/PyWnews/"
      ],
      "execution_count": null,
      "outputs": [
        {
          "output_type": "stream",
          "text": [
            "/content/PyWnews\n"
          ],
          "name": "stdout"
        }
      ]
    },
    {
      "cell_type": "code",
      "metadata": {
        "id": "c_10IDESy0HO"
      },
      "source": [
        "!mkdir PyWnews"
      ],
      "execution_count": null,
      "outputs": []
    },
    {
      "cell_type": "code",
      "metadata": {
        "colab": {
          "base_uri": "https://localhost:8080/"
        },
        "id": "E7vkv5MswV34",
        "outputId": "bfbe06f5-4bce-4388-d8a1-68619bf2f85e"
      },
      "source": [
        "cd PyWnews/"
      ],
      "execution_count": null,
      "outputs": [
        {
          "output_type": "stream",
          "text": [
            "/content/PyWnews/PyWnews\n"
          ],
          "name": "stdout"
        }
      ]
    },
    {
      "cell_type": "markdown",
      "metadata": {
        "id": "x5B0-MgHeUkL"
      },
      "source": [
        "BEFORE WE MOVE ON, LETS SAVE THE ABOVE CODE THAT WE USED TO SCRAP THE NEWS AS A PYTHON FILE IN THE DIRECTORY WE JUST MADE"
      ]
    },
    {
      "cell_type": "code",
      "metadata": {
        "id": "Ucb6uQI1dsn8"
      },
      "source": [
        "with open('/content/PyWnews/PyWnews/pynews.py', 'w') as fp:\n",
        "    pass\n",
        "    fp.write(\"import requests\")\n",
        "    fp.write(\"\\n\")\n",
        "    fp.write(\"from bs4 import BeautifulSoup\")\n",
        "    fp.write(\"\\n\")\n",
        "    fp.write(\"URL = 'https://apnews.com/hub/ap-top-news'\")\n",
        "    fp.write(\"\\n\")\n",
        "    fp.write(\"page = requests.get(URL)\")\n",
        "    fp.write(\"\\n\")\n",
        "    fp.write(\"soup = BeautifulSoup(page.content, 'html.parser')\")\n",
        "    fp.write(\"\\n\")\n",
        "    fp.write(\"class wnews:\")\n",
        "    fp.write(\"\\n\")\n",
        "    fp.write(\"  def news(self):\")\n",
        "    fp.write(\"\\n\")\n",
        "    fp.write(\"    news = []\")\n",
        "    fp.write(\"\\n\")\n",
        "    fp.write(\"    for div in soup.find_all(class_='FeedCard', attrs = {'class' : 'Component-h1'}):\")\n",
        "    fp.write(\"\\n\")\n",
        "    fp.write(\"      for h in div.find('h1'):\")\n",
        "    fp.write(\"\\n\")\n",
        "    fp.write(\"        new = h\")\n",
        "    fp.write(\"\\n\")\n",
        "    fp.write(\"        if new not in news:\")\n",
        "    fp.write(\"\\n\")\n",
        "    fp.write(\"          news.append(new)\")\n",
        "    fp.write(\"\\n\")\n",
        "    fp.write(\"    print(news)\")\n",
        "\n",
        "#you can make a python file by just doing a righ click on the files bar and make a .py python file and paste the code from the cell. \n",
        "  "
      ],
      "execution_count": null,
      "outputs": []
    },
    {
      "cell_type": "markdown",
      "metadata": {
        "id": "Tn-mKNRPCpKG"
      },
      "source": [
        "NOW LETS CREATE A INIT FUNCTION INSIDE THE FOLDER IN WHICH WE HAVE OUR PYTHON FILE"
      ]
    },
    {
      "cell_type": "code",
      "metadata": {
        "id": "twipvyFiDB4T"
      },
      "source": [
        "#WE WILL CALL HERE THE CLASS WE WANT TO USE WHILE IMPORTING THE LIBRARY\n",
        "#UNCOMMENT THE FOLLOWING CODE AND USE IT FOR MAKING THE INIT FUNCTION\n",
        "# from PyWnews.pynews import wnews"
      ],
      "execution_count": null,
      "outputs": []
    },
    {
      "cell_type": "markdown",
      "metadata": {
        "id": "Y64pflKnjEC5"
      },
      "source": [
        "THE CODE BELOW IS JUST LIKE A TEMPLATE FOR MAKING A SETUP FOR THE PACKAGE. \n",
        "TUNE THE SETUP AS PER YOUR REQUIREMENTS AND SAVE IT OUTSIDE THE PYWORLDNEWS FOLDER AS \"setup.py\""
      ]
    },
    {
      "cell_type": "code",
      "metadata": {
        "id": "Z2xkHyD6ix-r"
      },
      "source": [
        "#JUST UNCOMMENT THE CODE BELOW AND PASTE IT INTO setup.py\n",
        "# from setuptools import setup, find_packages\n",
        "# import codecs\n",
        "# import os\n",
        "\n",
        "\n",
        "# VERSION = '0.0.1'\n",
        "# DESCRIPTION = 'Getting Important World News'\n",
        "# LONG_DESCRIPTION = 'A package that allows user to get top world news from https://apnews.com/hub/ap-top-news.'\n",
        "\n",
        "# # Setting up\n",
        "# setup(\n",
        "#     name=\"pyworldnews\",\n",
        "#     version=VERSION,\n",
        "#     author=\"Niranjan Jain\",\n",
        "#     author_email=\"<niranjainjain022@gmail.com>\",\n",
        "#     description=DESCRIPTION,\n",
        "#     long_description=LONG_DESCRIPTION,\n",
        "#     packages=find_packages(),\n",
        "#     install_requires=['bs4', 'requests'],\n",
        "#     keywords=['python', 'worldnews', 'scrapper'],\n",
        "#     classifiers=[\n",
        "#         \"Development Status :: 1 - Planning\",\n",
        "#         \"Intended Audience :: Developers\",\n",
        "#         \"Programming Language :: Python :: 3\",\n",
        "#         \"Operating System :: Unix\",\n",
        "#         \"Operating System :: MacOS :: MacOS X\",\n",
        "#         \"Operating System :: Microsoft :: Windows\",\n",
        "#     ]\n",
        "# )"
      ],
      "execution_count": null,
      "outputs": []
    },
    {
      "cell_type": "markdown",
      "metadata": {
        "id": "ZtcSLkkmmfea"
      },
      "source": [
        "CHANGING THE DIRECTORY TO WHERE THE PACKAGE FILES ARE SO THAT WE CAN HAVE DIST FOLDERS IN THE PACKAGE DIRECTORY"
      ]
    },
    {
      "cell_type": "code",
      "metadata": {
        "colab": {
          "base_uri": "https://localhost:8080/"
        },
        "id": "uTMmVDx_x0uw",
        "outputId": "56a7fb6a-7cb0-416c-c7dd-f0c66cde4a27"
      },
      "source": [
        "cd /content/PyWnews/"
      ],
      "execution_count": null,
      "outputs": [
        {
          "output_type": "stream",
          "text": [
            "/content/PyWnews\n"
          ],
          "name": "stdout"
        }
      ]
    },
    {
      "cell_type": "markdown",
      "metadata": {
        "id": "oP0ko7PdDbxl"
      },
      "source": [
        "JUST RUN THE CODE BELOW TO CREATE BUILD AND DIST FOLDER WHICH WILL BE UPLOADED TO THE PYPI USING TWINE COMMAND"
      ]
    },
    {
      "cell_type": "code",
      "metadata": {
        "colab": {
          "base_uri": "https://localhost:8080/"
        },
        "id": "PRyFLBn4jpUy",
        "outputId": "e544668f-1501-40f9-f775-cae6a2fe23a2"
      },
      "source": [
        "!python3 setup.py sdist bdist_wheel"
      ],
      "execution_count": null,
      "outputs": [
        {
          "output_type": "stream",
          "text": [
            "running sdist\n",
            "running egg_info\n",
            "creating PyWnews.egg-info\n",
            "writing PyWnews.egg-info/PKG-INFO\n",
            "writing dependency_links to PyWnews.egg-info/dependency_links.txt\n",
            "writing requirements to PyWnews.egg-info/requires.txt\n",
            "writing top-level names to PyWnews.egg-info/top_level.txt\n",
            "writing manifest file 'PyWnews.egg-info/SOURCES.txt'\n",
            "reading manifest file 'PyWnews.egg-info/SOURCES.txt'\n",
            "writing manifest file 'PyWnews.egg-info/SOURCES.txt'\n",
            "warning: sdist: standard file not found: should have one of README, README.rst, README.txt, README.md\n",
            "\n",
            "running check\n",
            "warning: check: missing required meta-data: url\n",
            "\n",
            "creating PyWnews-0.0.1\n",
            "creating PyWnews-0.0.1/PyWnews\n",
            "creating PyWnews-0.0.1/PyWnews.egg-info\n",
            "copying files to PyWnews-0.0.1...\n",
            "copying setup.py -> PyWnews-0.0.1\n",
            "copying PyWnews/__init__.py -> PyWnews-0.0.1/PyWnews\n",
            "copying PyWnews/pynews.py -> PyWnews-0.0.1/PyWnews\n",
            "copying PyWnews.egg-info/PKG-INFO -> PyWnews-0.0.1/PyWnews.egg-info\n",
            "copying PyWnews.egg-info/SOURCES.txt -> PyWnews-0.0.1/PyWnews.egg-info\n",
            "copying PyWnews.egg-info/dependency_links.txt -> PyWnews-0.0.1/PyWnews.egg-info\n",
            "copying PyWnews.egg-info/requires.txt -> PyWnews-0.0.1/PyWnews.egg-info\n",
            "copying PyWnews.egg-info/top_level.txt -> PyWnews-0.0.1/PyWnews.egg-info\n",
            "Writing PyWnews-0.0.1/setup.cfg\n",
            "creating dist\n",
            "Creating tar archive\n",
            "removing 'PyWnews-0.0.1' (and everything under it)\n",
            "running bdist_wheel\n",
            "running build\n",
            "running build_py\n",
            "creating build\n",
            "creating build/lib\n",
            "creating build/lib/PyWnews\n",
            "copying PyWnews/pynews.py -> build/lib/PyWnews\n",
            "copying PyWnews/__init__.py -> build/lib/PyWnews\n",
            "installing to build/bdist.linux-x86_64/wheel\n",
            "running install\n",
            "running install_lib\n",
            "creating build/bdist.linux-x86_64\n",
            "creating build/bdist.linux-x86_64/wheel\n",
            "creating build/bdist.linux-x86_64/wheel/PyWnews\n",
            "copying build/lib/PyWnews/pynews.py -> build/bdist.linux-x86_64/wheel/PyWnews\n",
            "copying build/lib/PyWnews/__init__.py -> build/bdist.linux-x86_64/wheel/PyWnews\n",
            "running install_egg_info\n",
            "Copying PyWnews.egg-info to build/bdist.linux-x86_64/wheel/PyWnews-0.0.1-py3.7.egg-info\n",
            "running install_scripts\n",
            "creating build/bdist.linux-x86_64/wheel/PyWnews-0.0.1.dist-info/WHEEL\n",
            "creating 'dist/PyWnews-0.0.1-py3-none-any.whl' and adding 'build/bdist.linux-x86_64/wheel' to it\n",
            "adding 'PyWnews/__init__.py'\n",
            "adding 'PyWnews/pynews.py'\n",
            "adding 'PyWnews-0.0.1.dist-info/METADATA'\n",
            "adding 'PyWnews-0.0.1.dist-info/WHEEL'\n",
            "adding 'PyWnews-0.0.1.dist-info/top_level.txt'\n",
            "adding 'PyWnews-0.0.1.dist-info/RECORD'\n",
            "removing build/bdist.linux-x86_64/wheel\n"
          ],
          "name": "stdout"
        }
      ]
    },
    {
      "cell_type": "markdown",
      "metadata": {
        "id": "yLff0V4Noy-y"
      },
      "source": [
        "TO USE TWINE WE NEED TO FIRST INSTALL IT"
      ]
    },
    {
      "cell_type": "code",
      "metadata": {
        "colab": {
          "base_uri": "https://localhost:8080/"
        },
        "id": "Qvu_57TAoyo7",
        "outputId": "77d20ccf-0235-4b54-c4d5-eed77830465b"
      },
      "source": [
        "!pip install twine \n"
      ],
      "execution_count": null,
      "outputs": [
        {
          "output_type": "stream",
          "text": [
            "Collecting twine\n",
            "  Downloading https://files.pythonhosted.org/packages/42/ad/713372978a8de58a43c507bf62b9c30c3d7b5cda4e972d563b881620a511/twine-3.4.1-py3-none-any.whl\n",
            "Requirement already satisfied: requests>=2.20 in /usr/local/lib/python3.7/dist-packages (from twine) (2.23.0)\n",
            "Requirement already satisfied: tqdm>=4.14 in /usr/local/lib/python3.7/dist-packages (from twine) (4.41.1)\n",
            "Collecting colorama>=0.4.3\n",
            "  Downloading https://files.pythonhosted.org/packages/44/98/5b86278fbbf250d239ae0ecb724f8572af1c91f4a11edf4d36a206189440/colorama-0.4.4-py2.py3-none-any.whl\n",
            "Collecting requests-toolbelt!=0.9.0,>=0.8.0\n",
            "\u001b[?25l  Downloading https://files.pythonhosted.org/packages/60/ef/7681134338fc097acef8d9b2f8abe0458e4d87559c689a8c306d0957ece5/requests_toolbelt-0.9.1-py2.py3-none-any.whl (54kB)\n",
            "\u001b[K     |████████████████████████████████| 61kB 3.6MB/s \n",
            "\u001b[?25hRequirement already satisfied: importlib-metadata>=3.6 in /usr/local/lib/python3.7/dist-packages (from twine) (3.10.1)\n",
            "Collecting keyring>=15.1\n",
            "  Downloading https://files.pythonhosted.org/packages/26/f9/41230ac47f738f1ba66676dc8d3b30ca5b1f9eb0230fc204bcd9836c4ae9/keyring-23.0.1-py3-none-any.whl\n",
            "Collecting rfc3986>=1.4.0\n",
            "  Downloading https://files.pythonhosted.org/packages/78/be/7b8b99fd74ff5684225f50dd0e865393d2265656ef3b4ba9eaaaffe622b8/rfc3986-1.4.0-py2.py3-none-any.whl\n",
            "Collecting readme-renderer>=21.0\n",
            "  Downloading https://files.pythonhosted.org/packages/39/a5/459adfa22ea237f6e8d0fa95ad29d7369579a5eec26f016ab34bb7f8359c/readme_renderer-29.0-py2.py3-none-any.whl\n",
            "Collecting pkginfo>=1.4.2\n",
            "  Downloading https://files.pythonhosted.org/packages/b0/9a/d78e7c299eb5659bc3a036e5a968a399c62bfe0b2aa18baf7d13f43373ba/pkginfo-1.7.0-py2.py3-none-any.whl\n",
            "Requirement already satisfied: certifi>=2017.4.17 in /usr/local/lib/python3.7/dist-packages (from requests>=2.20->twine) (2020.12.5)\n",
            "Requirement already satisfied: chardet<4,>=3.0.2 in /usr/local/lib/python3.7/dist-packages (from requests>=2.20->twine) (3.0.4)\n",
            "Requirement already satisfied: urllib3!=1.25.0,!=1.25.1,<1.26,>=1.21.1 in /usr/local/lib/python3.7/dist-packages (from requests>=2.20->twine) (1.24.3)\n",
            "Requirement already satisfied: idna<3,>=2.5 in /usr/local/lib/python3.7/dist-packages (from requests>=2.20->twine) (2.10)\n",
            "Requirement already satisfied: typing-extensions>=3.6.4; python_version < \"3.8\" in /usr/local/lib/python3.7/dist-packages (from importlib-metadata>=3.6->twine) (3.7.4.3)\n",
            "Requirement already satisfied: zipp>=0.5 in /usr/local/lib/python3.7/dist-packages (from importlib-metadata>=3.6->twine) (3.4.1)\n",
            "Collecting SecretStorage>=3.2; sys_platform == \"linux\"\n",
            "  Downloading https://files.pythonhosted.org/packages/d9/1e/29cd69fdac7391aa51510dfd42aa70b4e6a826c8cd019ee2a8ab9ec0777f/SecretStorage-3.3.1-py3-none-any.whl\n",
            "Collecting jeepney>=0.4.2; sys_platform == \"linux\"\n",
            "\u001b[?25l  Downloading https://files.pythonhosted.org/packages/51/b0/a6ea72741aaac3f37fb96d195e4ee576a103c4c04e279bc6b446a70960e1/jeepney-0.6.0-py3-none-any.whl (45kB)\n",
            "\u001b[K     |████████████████████████████████| 51kB 3.0MB/s \n",
            "\u001b[?25hRequirement already satisfied: docutils>=0.13.1 in /usr/local/lib/python3.7/dist-packages (from readme-renderer>=21.0->twine) (0.17)\n",
            "Requirement already satisfied: bleach>=2.1.0 in /usr/local/lib/python3.7/dist-packages (from readme-renderer>=21.0->twine) (3.3.0)\n",
            "Requirement already satisfied: six in /usr/local/lib/python3.7/dist-packages (from readme-renderer>=21.0->twine) (1.15.0)\n",
            "Requirement already satisfied: Pygments>=2.5.1 in /usr/local/lib/python3.7/dist-packages (from readme-renderer>=21.0->twine) (2.6.1)\n",
            "Collecting cryptography>=2.0\n",
            "\u001b[?25l  Downloading https://files.pythonhosted.org/packages/b2/26/7af637e6a7e87258b963f1731c5982fb31cd507f0d90d91836e446955d02/cryptography-3.4.7-cp36-abi3-manylinux2014_x86_64.whl (3.2MB)\n",
            "\u001b[K     |████████████████████████████████| 3.2MB 1.6MB/s \n",
            "\u001b[?25hRequirement already satisfied: webencodings in /usr/local/lib/python3.7/dist-packages (from bleach>=2.1.0->readme-renderer>=21.0->twine) (0.5.1)\n",
            "Requirement already satisfied: packaging in /usr/local/lib/python3.7/dist-packages (from bleach>=2.1.0->readme-renderer>=21.0->twine) (20.9)\n",
            "Requirement already satisfied: cffi>=1.12 in /usr/local/lib/python3.7/dist-packages (from cryptography>=2.0->SecretStorage>=3.2; sys_platform == \"linux\"->keyring>=15.1->twine) (1.14.5)\n",
            "Requirement already satisfied: pyparsing>=2.0.2 in /usr/local/lib/python3.7/dist-packages (from packaging->bleach>=2.1.0->readme-renderer>=21.0->twine) (2.4.7)\n",
            "Requirement already satisfied: pycparser in /usr/local/lib/python3.7/dist-packages (from cffi>=1.12->cryptography>=2.0->SecretStorage>=3.2; sys_platform == \"linux\"->keyring>=15.1->twine) (2.20)\n",
            "Installing collected packages: colorama, requests-toolbelt, jeepney, cryptography, SecretStorage, keyring, rfc3986, readme-renderer, pkginfo, twine\n",
            "Successfully installed SecretStorage-3.3.1 colorama-0.4.4 cryptography-3.4.7 jeepney-0.6.0 keyring-23.0.1 pkginfo-1.7.0 readme-renderer-29.0 requests-toolbelt-0.9.1 rfc3986-1.4.0 twine-3.4.1\n"
          ],
          "name": "stdout"
        }
      ]
    },
    {
      "cell_type": "markdown",
      "metadata": {
        "id": "PXTqORhjo5M_"
      },
      "source": [
        "UPLOADING THE DIST FOLDER USING TWINE"
      ]
    },
    {
      "cell_type": "code",
      "metadata": {
        "colab": {
          "base_uri": "https://localhost:8080/"
        },
        "id": "euyXd9RWoPgQ",
        "outputId": "31a21853-f82b-422f-b1ed-8bb8fca0d438"
      },
      "source": [
        "!twine upload /content/PyWnews/dist/*"
      ],
      "execution_count": null,
      "outputs": [
        {
          "output_type": "stream",
          "text": [
            "Uploading distributions to https://upload.pypi.org/legacy/\n",
            "Enter your username: niranjainjain022\n",
            "/usr/local/lib/python3.7/dist-packages/twine/auth.py:75: UserWarning: No recommended backend was available. Install a recommended 3rd party backend package; or, install the keyrings.alt package if you want to use the non-recommended backends. See https://pypi.org/project/keyring for details.\n",
            "  warnings.warn(str(exc))\n",
            "Enter your password: \n",
            "Uploading PyWnews-0.0.1-py3-none-any.whl\n",
            "100% 5.49k/5.49k [00:02<00:00, 2.06kB/s]\n",
            "Uploading PyWnews-0.0.1.tar.gz\n",
            "100% 4.79k/4.79k [00:01<00:00, 3.43kB/s]\n",
            "\n",
            "View at:\n",
            "https://pypi.org/project/PyWnews/0.0.1/\n"
          ],
          "name": "stdout"
        }
      ]
    },
    {
      "cell_type": "code",
      "metadata": {
        "id": "joOB6a47DyPp"
      },
      "source": [
        ""
      ],
      "execution_count": null,
      "outputs": []
    }
  ]
}